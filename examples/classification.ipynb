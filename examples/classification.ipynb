{
 "cells": [
  {
   "metadata": {
    "ExecuteTime": {
     "end_time": "2025-01-15T15:07:41.432787Z",
     "start_time": "2025-01-15T15:07:40.673835Z"
    }
   },
   "cell_type": "code",
   "source": [
    "import numpy as np\n",
    "import pandas as pd\n",
    "\n",
    "from litedl.models import FeedForwardNeuralNetwork\n",
    "from litedl.layers import Affine, Sigmoid, SoftmaxWithLoss\n",
    "from litedl.optimizers import SGD\n",
    "from litedl.utils import data_split, get_batches, OneHotEncoder, Standardizer\n",
    "\n",
    "# 학습 하이퍼 파라미터 설정\n",
    "epochs = 1000000\n",
    "batch_size = 30\n",
    "\n",
    "# 붓꽃 데이터셋 불러오기\n",
    "dataset = pd.read_csv('dataset/Iris.csv')\n",
    "dataset.drop('Id', axis=1, inplace=True)\n",
    "\n",
    "# 피처와 라벨 데이터 나누기\n",
    "features = dataset.iloc[:, :-1].values\n",
    "labels = dataset.iloc[:, -1].values.reshape(-1, 1)\n",
    "\n",
    "# 라벨 데이터를 원 핫 인코딩으로 표현하고 섞기\n",
    "encoder = OneHotEncoder()\n",
    "encoder.fit(labels)\n",
    "labels = encoder.transform(labels)\n",
    "np.random.shuffle(labels)\n",
    "\n",
    "# 피처 데이터를 표준화하기\n",
    "standardizer = Standardizer()\n",
    "standardizer.fit(features)\n",
    "features = standardizer.transform(features)\n",
    "\n",
    "# 학습용 데이터와 테스트용 데이터로 나누기\n",
    "train_x, test_x = data_split(features, 0.5)\n",
    "train_y, test_y = data_split(labels, 0.5)\n",
    "\n",
    "# 미니배치 데이터 구하기\n",
    "x_batches = get_batches(train_x, batch_size)\n",
    "y_batches = get_batches(train_y, batch_size)"
   ],
   "id": "1c77b0a89fdbcd37",
   "outputs": [],
   "execution_count": 1
  },
  {
   "metadata": {
    "ExecuteTime": {
     "end_time": "2025-01-15T15:10:34.267766Z",
     "start_time": "2025-01-15T15:07:41.432787Z"
    }
   },
   "cell_type": "code",
   "source": [
    "# 모델과 계층 선언\n",
    "model = FeedForwardNeuralNetwork()\n",
    "affine1 = Affine(input_size=4, output_size=5)\n",
    "sigmoid = Sigmoid()\n",
    "affine2 = Affine(input_size=5, output_size=3)\n",
    "loss_fn = SoftmaxWithLoss()\n",
    "optimizer = SGD()\n",
    "\n",
    "# 계층을 쌓아 모델을 구축\n",
    "model.add_layer(affine1)\n",
    "model.add_layer(sigmoid)\n",
    "model.add_layer(affine2)\n",
    "model.add_loss_layer(loss_fn)\n",
    "\n",
    "# 모델 학습\n",
    "for epoch in range(epochs):\n",
    "    for batch_index in range(len(x_batches)):\n",
    "        loss = model.forward(x_batches[batch_index], y_batches[batch_index])\n",
    "        model.backward()\n",
    "        model.step(optimizer=optimizer)\n",
    "\n",
    "model.to_pickle('classification.pkl')"
   ],
   "id": "dca0544489e62623",
   "outputs": [],
   "execution_count": 2
  },
  {
   "metadata": {
    "ExecuteTime": {
     "end_time": "2025-01-15T15:10:34.279992Z",
     "start_time": "2025-01-15T15:10:34.267766Z"
    }
   },
   "cell_type": "code",
   "source": [
    "# 테스트 데이터로 정확도 측정\n",
    "pickle_model = FeedForwardNeuralNetwork.from_pickle('classification.pkl')\n",
    "\n",
    "np.sum(np.argmax(pickle_model.predict(test_x), axis=1) == np.argmax(test_y, axis=1)) / test_x.shape[0]"
   ],
   "id": "3da36756165695c9",
   "outputs": [
    {
     "data": {
      "text/plain": [
       "np.float64(0.30666666666666664)"
      ]
     },
     "execution_count": 3,
     "metadata": {},
     "output_type": "execute_result"
    }
   ],
   "execution_count": 3
  }
 ],
 "metadata": {
  "kernelspec": {
   "display_name": "Python 3",
   "language": "python",
   "name": "python3"
  },
  "language_info": {
   "codemirror_mode": {
    "name": "ipython",
    "version": 2
   },
   "file_extension": ".py",
   "mimetype": "text/x-python",
   "name": "python",
   "nbconvert_exporter": "python",
   "pygments_lexer": "ipython2",
   "version": "2.7.6"
  }
 },
 "nbformat": 4,
 "nbformat_minor": 5
}
