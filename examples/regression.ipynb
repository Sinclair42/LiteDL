{
 "cells": [
  {
   "cell_type": "code",
   "id": "initial_id",
   "metadata": {
    "collapsed": true,
    "ExecuteTime": {
     "end_time": "2025-01-12T15:43:56.259291Z",
     "start_time": "2025-01-12T15:43:54.134106Z"
    }
   },
   "source": [
    "import numpy as np\n",
    "import pandas as pd\n",
    "\n",
    "from litedl.models import FeedForwardNeuralNetwork\n",
    "from litedl.layers import Affine, Sigmoid, ReLU, MSE\n",
    "from litedl.optimizers import SGD\n",
    "\n",
    "\n",
    "dataset = pd.read_csv('dataset/advertising.csv')\n",
    "mean = dataset.mean().values\n",
    "std = dataset.std().values\n",
    "dataset = (dataset - mean) / std\n",
    "features = dataset.iloc[:, :-1].values\n",
    "labels = dataset.iloc[:, -1].values.reshape(-1, 1)\n",
    "print(mean, std)\n",
    "\n",
    "train_features = features[:160]\n",
    "train_labels = labels[:160]\n",
    "\n",
    "test_features = features[160:]\n",
    "test_labels = labels[160:]\n",
    "\n",
    "model = FeedForwardNeuralNetwork()\n",
    "affine1 = Affine(input_size=3, output_size=50)\n",
    "sigmoid = Sigmoid()\n",
    "affine2 = Affine(input_size=3, output_size=1)\n",
    "mse = MSE()\n",
    "sgd = SGD()\n",
    "\n",
    "# model.add_layer(affine1)\n",
    "# model.add_layer(sigmoid)\n",
    "model.add_layer(affine2)\n",
    "model.add_loss_layer(mse)\n",
    "\n",
    "for i in range(500):\n",
    "    model.forward(train_features, train_labels)\n",
    "    model.backward()\n",
    "    model.step(optimizer=sgd)\n",
    "    \n",
    "    print(f'epoch {i}: {model.forward(train_features, train_labels)}')\n",
    "\n",
    "print('=================================')\n",
    "y_hat = (model.predict(test_features) * std[-1] + mean[-1]).flatten()\n",
    "y = (test_labels * std[-1] + mean[-1]).flatten()\n",
    "\n",
    "compare = pd.DataFrame({'Actual': y, 'Predicted': y_hat, 'Error': np.abs(y - y_hat)})\n",
    "print(compare[compare['Error'] > 2])"
   ],
   "execution_count": 2,
   "outputs": []
  },
  {
   "metadata": {},
   "cell_type": "code",
   "execution_count": null,
   "source": "",
   "id": "55f4310384f83f9a",
   "outputs": []
  }
 ],
 "metadata": {
  "kernelspec": {
   "display_name": "Python 3",
   "language": "python",
   "name": "python3"
  },
  "language_info": {
   "codemirror_mode": {
    "name": "ipython",
    "version": 2
   },
   "file_extension": ".py",
   "mimetype": "text/x-python",
   "name": "python",
   "nbconvert_exporter": "python",
   "pygments_lexer": "ipython2",
   "version": "2.7.6"
  }
 },
 "nbformat": 4,
 "nbformat_minor": 5
}
