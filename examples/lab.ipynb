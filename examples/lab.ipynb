{
 "cells": [
  {
   "cell_type": "code",
   "id": "initial_id",
   "metadata": {
    "collapsed": true,
    "ExecuteTime": {
     "end_time": "2025-01-12T15:05:33.324243Z",
     "start_time": "2025-01-12T15:05:33.215503Z"
    }
   },
   "source": [
    "from pprint import pprint\n",
    "import numpy as np\n",
    "from litedl.layers import Affine, Sigmoid, ReLU, MSE\n",
    "from litedl.optimizers import SGD\n",
    "from litedl.models import FeedForwardNeuralNetwork\n",
    "\n",
    "x = np.random.randn(10, 3)\n",
    "t = np.random.randn(10, 1)\n",
    "\n",
    "affine1 = Affine(input_size=3, output_size=5)\n",
    "relu1 = Sigmoid()\n",
    "affine2 = Affine(input_size=5, output_size=1)\n",
    "relu2 = Sigmoid()\n",
    "mse = MSE()\n",
    "\n",
    "sgd = SGD()\n",
    "\n",
    "net = FeedForwardNeuralNetwork()\n",
    "net.add_layer(affine1)\n",
    "net.add_layer(relu1)\n",
    "net.add_layer(affine2)\n",
    "net.add_layer(relu2)\n",
    "net.add_loss_layer(mse)\n",
    "\n",
    "for i in range(100):\n",
    "    net.forward(x, t)\n",
    "    net.backward()\n",
    "    net.step(optimizer=sgd)\n",
    "    print(f'epoch {i}: {net.forward(x, t)}')\n",
    "\n",
    "\n",
    "print(net.predict(x))\n",
    "net.to_pickle('net.pkl')"
   ],
   "outputs": [
    {
     "name": "stdout",
     "output_type": "stream",
     "text": [
      "epoch 0: 0.7675029964053552\n",
      "epoch 1: 0.7674936641898621\n",
      "epoch 2: 0.7674843429850713\n",
      "epoch 3: 0.7674750327715105\n",
      "epoch 4: 0.7674657335297537\n",
      "epoch 5: 0.7674564452404198\n",
      "epoch 6: 0.7674471678841734\n",
      "epoch 7: 0.7674379014417243\n",
      "epoch 8: 0.7674286458938275\n",
      "epoch 9: 0.7674194012212827\n",
      "epoch 10: 0.7674101674049347\n",
      "epoch 11: 0.7674009444256732\n",
      "epoch 12: 0.7673917322644321\n",
      "epoch 13: 0.7673825309021903\n",
      "epoch 14: 0.76737334031997\n",
      "epoch 15: 0.7673641604988388\n",
      "epoch 16: 0.767354991419908\n",
      "epoch 17: 0.7673458330643325\n",
      "epoch 18: 0.7673366854133111\n",
      "epoch 19: 0.767327548448087\n",
      "epoch 20: 0.767318422149946\n",
      "epoch 21: 0.767309306500218\n",
      "epoch 22: 0.7673002014802762\n",
      "epoch 23: 0.7672911070715364\n",
      "epoch 24: 0.7672820232554581\n",
      "epoch 25: 0.7672729500135436\n",
      "epoch 26: 0.7672638873273379\n",
      "epoch 27: 0.767254835178429\n",
      "epoch 28: 0.7672457935484469\n",
      "epoch 29: 0.7672367624190647\n",
      "epoch 30: 0.7672277417719973\n",
      "epoch 31: 0.7672187315890023\n",
      "epoch 32: 0.7672097318518791\n",
      "epoch 33: 0.767200742542469\n",
      "epoch 34: 0.7671917636426554\n",
      "epoch 35: 0.7671827951343633\n",
      "epoch 36: 0.7671738369995592\n",
      "epoch 37: 0.7671648892202514\n",
      "epoch 38: 0.7671559517784892\n",
      "epoch 39: 0.7671470246563634\n",
      "epoch 40: 0.7671381078360059\n",
      "epoch 41: 0.7671292012995897\n",
      "epoch 42: 0.7671203050293284\n",
      "epoch 43: 0.7671114190074768\n",
      "epoch 44: 0.7671025432163298\n",
      "epoch 45: 0.7670936776382236\n",
      "epoch 46: 0.7670848222555342\n",
      "epoch 47: 0.7670759770506781\n",
      "epoch 48: 0.7670671420061124\n",
      "epoch 49: 0.7670583171043337\n",
      "epoch 50: 0.7670495023278788\n",
      "epoch 51: 0.7670406976593246\n",
      "epoch 52: 0.7670319030812875\n",
      "epoch 53: 0.7670231185764236\n",
      "epoch 54: 0.7670143441274283\n",
      "epoch 55: 0.767005579717037\n",
      "epoch 56: 0.7669968253280239\n",
      "epoch 57: 0.7669880809432025\n",
      "epoch 58: 0.7669793465454254\n",
      "epoch 59: 0.7669706221175842\n",
      "epoch 60: 0.7669619076426095\n",
      "epoch 61: 0.7669532031034703\n",
      "epoch 62: 0.7669445084831743\n",
      "epoch 63: 0.7669358237647682\n",
      "epoch 64: 0.7669271489313367\n",
      "epoch 65: 0.7669184839660027\n",
      "epoch 66: 0.7669098288519279\n",
      "epoch 67: 0.7669011835723115\n",
      "epoch 68: 0.7668925481103905\n",
      "epoch 69: 0.7668839224494409\n",
      "epoch 70: 0.7668753065727754\n",
      "epoch 71: 0.7668667004637447\n",
      "epoch 72: 0.7668581041057372\n",
      "epoch 73: 0.7668495174821786\n",
      "epoch 74: 0.766840940576532\n",
      "epoch 75: 0.7668323733722979\n",
      "epoch 76: 0.7668238158530136\n",
      "epoch 77: 0.7668152680022539\n",
      "epoch 78: 0.7668067298036301\n",
      "epoch 79: 0.7667982012407906\n",
      "epoch 80: 0.7667896822974205\n",
      "epoch 81: 0.7667811729572414\n",
      "epoch 82: 0.7667726732040115\n",
      "epoch 83: 0.7667641830215256\n",
      "epoch 84: 0.7667557023936148\n",
      "epoch 85: 0.7667472313041456\n",
      "epoch 86: 0.766738769737022\n",
      "epoch 87: 0.7667303176761832\n",
      "epoch 88: 0.7667218751056041\n",
      "epoch 89: 0.7667134420092959\n",
      "epoch 90: 0.7667050183713059\n",
      "epoch 91: 0.7666966041757158\n",
      "epoch 92: 0.7666881994066439\n",
      "epoch 93: 0.7666798040482437\n",
      "epoch 94: 0.7666714180847032\n",
      "epoch 95: 0.7666630415002471\n",
      "epoch 96: 0.766654674279134\n",
      "epoch 97: 0.7666463164056581\n",
      "epoch 98: 0.7666379678641483\n",
      "epoch 99: 0.7666296286389684\n",
      "[[0.03552788]\n",
      " [0.06555431]\n",
      " [0.06563598]\n",
      " [0.06564218]\n",
      " [0.0595138 ]\n",
      " [0.04040547]\n",
      " [0.03928894]\n",
      " [0.07023912]\n",
      " [0.02921836]\n",
      " [0.03945377]]\n"
     ]
    }
   ],
   "execution_count": 1
  },
  {
   "metadata": {
    "ExecuteTime": {
     "end_time": "2025-01-12T15:05:33.330940Z",
     "start_time": "2025-01-12T15:05:33.324243Z"
    }
   },
   "cell_type": "code",
   "source": [
    "net2 = FeedForwardNeuralNetwork.from_pickle('net.pkl')\n",
    "\n",
    "net2.predict(x)\n",
    "print(net2)"
   ],
   "id": "be90b193f0c9c90c",
   "outputs": [
    {
     "name": "stdout",
     "output_type": "stream",
     "text": [
      "\n",
      "FeedForwardNeuralNetwork\n",
      "        \n",
      "layers:\n",
      "Affine(input_size=3, output_size=5)\n",
      "Sigmoid()\n",
      "Affine(input_size=5, output_size=1)\n",
      "Sigmoid()\n",
      "        \n"
     ]
    }
   ],
   "execution_count": 2
  },
  {
   "metadata": {
    "ExecuteTime": {
     "end_time": "2025-01-12T15:05:33.335250Z",
     "start_time": "2025-01-12T15:05:33.330940Z"
    }
   },
   "cell_type": "code",
   "source": "",
   "id": "21c0a9f34993a026",
   "outputs": [],
   "execution_count": 2
  }
 ],
 "metadata": {
  "kernelspec": {
   "display_name": "Python 3",
   "language": "python",
   "name": "python3"
  },
  "language_info": {
   "codemirror_mode": {
    "name": "ipython",
    "version": 2
   },
   "file_extension": ".py",
   "mimetype": "text/x-python",
   "name": "python",
   "nbconvert_exporter": "python",
   "pygments_lexer": "ipython2",
   "version": "2.7.6"
  }
 },
 "nbformat": 4,
 "nbformat_minor": 5
}
