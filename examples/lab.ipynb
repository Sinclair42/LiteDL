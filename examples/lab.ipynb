{
 "cells": [
  {
   "cell_type": "code",
   "id": "initial_id",
   "metadata": {
    "collapsed": true,
    "ExecuteTime": {
     "end_time": "2025-01-11T15:45:08.683369Z",
     "start_time": "2025-01-11T15:45:08.671869Z"
    }
   },
   "source": [
    "from pprint import pprint\n",
    "import numpy as np\n",
    "from litedl.layers import Affine, Sigmoid, ReLU, MSE\n",
    "\n",
    "x = np.random.randn(10, 3)\n",
    "t = np.random.randn(10, 1)\n",
    "\n",
    "affine1 = Affine(input_size=3, output_size=5)\n",
    "sigmoid = Sigmoid()\n",
    "affine2 = Affine(input_size=5, output_size=1)\n",
    "relu = ReLU()\n",
    "mse = MSE()\n",
    "\n",
    "output = affine1.forward(x)\n",
    "output = sigmoid.forward(output)\n",
    "output = affine2.forward(output)\n",
    "output = relu.forward(output)\n",
    "output = mse.forward(output, t)\n",
    "print(output)\n",
    "\n",
    "dout = mse.backward()\n",
    "dout = relu.backward(dout)\n",
    "dout = affine2.backward(dout)\n",
    "dout = sigmoid.backward(dout)\n",
    "dout = affine1.backward(dout)\n",
    "\n",
    "print(dout)\n",
    "print(affine1.grads)\n",
    "print(affine2.grads)"
   ],
   "outputs": [
    {
     "name": "stdout",
     "output_type": "stream",
     "text": [
      "2.8168606130371012\n",
      "[[-0.04412396 -0.29706904 -0.20772326]\n",
      " [ 0.          0.          0.        ]\n",
      " [-0.07172898 -0.23625128 -0.17499648]\n",
      " [-0.08015581 -0.443754   -0.30633634]\n",
      " [-0.00276904 -0.03955083 -0.0307054 ]\n",
      " [ 0.01577414  0.01777311  0.02119709]\n",
      " [-0.01907169 -0.20464114 -0.14785623]\n",
      " [-0.06743914 -0.34834585 -0.24023952]\n",
      " [-0.00299875 -0.12315346 -0.08655603]\n",
      " [ 0.04208486 -0.41147596 -0.23102991]]\n",
      "{'W': array([[-0.58721674,  0.44113395,  0.12377821, -0.8917794 , -0.10037254],\n",
      "       [-0.91193063,  0.53390763,  0.15781582, -0.90367781, -0.09644161],\n",
      "       [-0.153369  ,  0.38381523,  0.02224257, -0.51037486, -0.12451232]]), 'b': array([ 0.88132879, -0.56072706, -0.13586545,  0.98568748,  0.11111356])}\n",
      "{'W': array([[2.12853287],\n",
      "       [0.78980536],\n",
      "       [1.44967779],\n",
      "       [1.87766672],\n",
      "       [1.00069822]]), 'b': array([2.71771723])}\n"
     ]
    }
   ],
   "execution_count": 21
  },
  {
   "metadata": {},
   "cell_type": "code",
   "outputs": [],
   "execution_count": null,
   "source": "",
   "id": "be90b193f0c9c90c"
  }
 ],
 "metadata": {
  "kernelspec": {
   "display_name": "Python 3",
   "language": "python",
   "name": "python3"
  },
  "language_info": {
   "codemirror_mode": {
    "name": "ipython",
    "version": 2
   },
   "file_extension": ".py",
   "mimetype": "text/x-python",
   "name": "python",
   "nbconvert_exporter": "python",
   "pygments_lexer": "ipython2",
   "version": "2.7.6"
  }
 },
 "nbformat": 4,
 "nbformat_minor": 5
}
